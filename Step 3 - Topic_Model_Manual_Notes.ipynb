{
 "cells": [
  {
   "cell_type": "code",
   "execution_count": null,
   "id": "3de2e4c8",
   "metadata": {},
   "outputs": [],
   "source": [
    "!pip install gensim==3.8.3 pyLDAvis top2vec"
   ]
  },
  {
   "cell_type": "code",
   "execution_count": 2,
   "id": "e9b35ab3",
   "metadata": {},
   "outputs": [
    {
     "name": "stderr",
     "output_type": "stream",
     "text": [
      "[nltk_data] Downloading package punkt to /home/ec2-user/nltk_data...\n",
      "[nltk_data]   Package punkt is already up-to-date!\n",
      "[nltk_data] Downloading package wordnet to /home/ec2-user/nltk_data...\n",
      "[nltk_data]   Package wordnet is already up-to-date!\n"
     ]
    }
   ],
   "source": [
    "import gensim\n",
    "\n",
    "# Plotting tools\n",
    "import pyLDAvis\n",
    "import pyLDAvis.gensim\n",
    "import matplotlib.pyplot as plt\n",
    "%matplotlib inline\n",
    "from IPython.display import clear_output\n",
    "\n",
    "pyLDAvis.enable_notebook()\n",
    "\n",
    "import pandas as pd\n",
    "import numpy as np\n",
    "import re\n",
    "\n",
    "import wrappers\n",
    "utils = wrappers.utils"
   ]
  },
  {
   "cell_type": "code",
   "execution_count": 3,
   "id": "1391c5c5",
   "metadata": {},
   "outputs": [],
   "source": [
    "# Load CSV dataset\n",
    "df = pd.read_csv('merged_crm_meta.csv')"
   ]
  },
  {
   "cell_type": "markdown",
   "id": "d191c0ad",
   "metadata": {},
   "source": [
    "# Data Preparation"
   ]
  },
  {
   "cell_type": "markdown",
   "id": "2522d9e6",
   "metadata": {},
   "source": [
    "### Load Stopwords ###"
   ]
  },
  {
   "cell_type": "code",
   "execution_count": 4,
   "id": "744d8adc",
   "metadata": {},
   "outputs": [],
   "source": [
    "# Load Stopwords list for removal of frequently occuring words with minimal impact on Topic Generation\n",
    "stopwords_path = 'text-file/manualnotes_stopwords.txt'\n",
    "stopwords = open(stopwords_path)\n",
    "stopwords = stopwords.read().splitlines()\n",
    "\n",
    "# Initializing top2vec Wrapper with stopwords, importing a list of words to be removed from dataset before fitting into LDA Model\n",
    "lda = wrappers.LdaWrap(stopwords, manual_note=True)\n",
    "\n",
    "#extend and remove stopwords\n",
    "extend_stopwords = [\"customer\",\"cx\",\"needed\",\"nfa\",\"said\",\"advise\",\"adv\",\"insurance\",\"n\",\"s\",\"can\",\n",
    "                    \"will\",\"via\",\"ph\",\"get\",\"canx\"]\n",
    "\n",
    "remove_stopwords = []\n",
    "\n"
   ]
  },
  {
   "cell_type": "markdown",
   "id": "786fd5c2",
   "metadata": {},
   "source": [
    "### Lemmatization of Words ###"
   ]
  },
  {
   "cell_type": "code",
   "execution_count": 5,
   "id": "f43bc1d1",
   "metadata": {},
   "outputs": [],
   "source": [
    "# Lemmatization is a test pre-processing technique which groups words or abreviations into a single term.\n",
    "\n",
    "# lemmatize list\n",
    "lemmatize = utils.make_lemmatize_list([\n",
    " ([\"cx\",\"cust\",\"cm\"], \"customer\"),\n",
    " ([\"adv\"], \"advise\"),\n",
    " ([\"alr\"], \"already\"),\n",
    " ([\"purchased\",\"buy\",\"bought\"], \"purchase\"),\n",
    " ([\"renewal\",\"renewed\"], \"renew\"),\n",
    " ([\"paid\",\"payment\"], \"pay\"),\n",
    " ([\"successfully\"], \"success\"),\n",
    " ([\"thru\"], \"through\"),\n",
    " ([\"nvr\",\"never\"], \"not\"),\n",
    " ([\"goes\"], \"go\"),\n",
    " ([\"checking\"], \"check\"),\n",
    " ([\"days\"], \"day\"),\n",
    " ([\"saved\"], \"save\"),\n",
    " ([\"ph\"], \"phone\")\n",
    "])\n",
    "\n",
    "\n",
    "### Permutation of phrases, creates bigrams (two-word sequence) combination and permutation of words ###\n",
    "# Example: 2 lists [\"known\"], [\"well\",\"not\"] returns [\"known_well\", \"known_not\", \"well_known\", \"not_known\"]\n",
    "\n",
    "# create permuations for successful payment\n",
    "phrase_perm = utils.phrase_permutation([\"success\",\"already\",\"proceed\"],[\"purchase\",\"pay\",\"renew\"])\n",
    "\n",
    "phrases = [*phrase_perm,\"axs_machine\", \"credit_card\",\"wire_card\", \"debit_card\", \"go_through\", \"cross_sell\", \"resend_email\", \"call_back\",\"generate_new\", \"day_later\",\"save_quote\"]\n",
    "\n",
    "# removing additonal stopwords after permutation\n",
    "stopwords_after_phrases = [\"already\",\"not\",\"dont\",\"purchase\", \"pay\",\"go\",\"through\", \"day\"]\n",
    "\n",
    "# lemmatizing of phrases\n",
    "phrase_lemmatize = utils.make_lemmatize_list([([\"axs_machine\"], \"axs\"), ([\"cc\",\"card\"], \"credit_card\"), ([\"wire_card\"], \"wirecard\"), \n",
    "                    (phrase_perm, \"successful_payment\"), ([\"crosssell, xsell\"], \"cross_sell\"),\n",
    "                    ([\"call_back\"], \"callback\")])"
   ]
  },
  {
   "cell_type": "code",
   "execution_count": 6,
   "id": "70e66ff7",
   "metadata": {},
   "outputs": [
    {
     "name": "stdout",
     "output_type": "stream",
     "text": [
      "Processing text...\n",
      "Text processed in 2.250196933746338 seconds\n",
      "Making N-grams...\n",
      "N-grams completed in 0.12698578834533691 seconds\n"
     ]
    }
   ],
   "source": [
    "### Method to process text data and convert it into usable format for LDA model ###\n",
    "\n",
    "# Apply Stopwords, Lemmatization and Permuation into text dataset\n",
    "processed_df, df_process_obj = lda.process_text(df['manual_notes2'],extend_stopwords=extend_stopwords,\n",
    "                                                            remove_stopwords=remove_stopwords, \n",
    "                                                            custom_bigrams = phrases, context_words = [\"not\",\"dont\",\"send\",\"check\"], \n",
    "                                                            stopwords_aft_phrase = stopwords_after_phrases,\n",
    "                                                            lemmatize = lemmatize, lemmatize_bigrams = phrase_lemmatize,\n",
    "                                                            freq_bigrams=True, filter_email=True)"
   ]
  },
  {
   "cell_type": "markdown",
   "id": "c229a91f",
   "metadata": {},
   "source": [
    "### Create Word Dictionary ###"
   ]
  },
  {
   "cell_type": "code",
   "execution_count": 7,
   "id": "74097e7c",
   "metadata": {},
   "outputs": [
    {
     "name": "stdout",
     "output_type": "stream",
     "text": [
      "Creating dictionary...\n",
      "Dictionary complete in 0.012746572494506836 seconds\n"
     ]
    }
   ],
   "source": [
    "# Create dictionary which converts processed dataset to bag-of-words corpus for model fitting\n",
    "dictionary = lda.make_dictionary(processed_df,no_below=10, no_above=0.1, filter_extremes=False)\n",
    "\n",
    "# no_below : Word that appears in 10 or more data rows would be included in dictionary\n",
    "# no_above : Words that appears in more than 10% of data rows would be removed"
   ]
  },
  {
   "cell_type": "markdown",
   "id": "5bfeeddd",
   "metadata": {},
   "source": [
    "# Topic Modeling (Manual Notes)"
   ]
  },
  {
   "cell_type": "markdown",
   "id": "a6abe739",
   "metadata": {},
   "source": [
    "## Create Topic Model"
   ]
  },
  {
   "cell_type": "code",
   "execution_count": 8,
   "id": "2d6f30a4",
   "metadata": {},
   "outputs": [
    {
     "name": "stdout",
     "output_type": "stream",
     "text": [
      "Iteration 9/9\n",
      "Mean coherence score: 0.235512\n",
      "Mean perplexity: -6.396460\n",
      "Estimated time of completion: 0.000000 seconds\n",
      "\n",
      "Training LDA model...\n",
      "LDA model complete in 0.7315361499786377 seconds\n",
      "model with highest coherence score: 8\n",
      "highest coherence score: 0.2724708061424101\n"
     ]
    }
   ],
   "source": [
    "# creates multiple models exhaustively to find optimal topicnum (searches through 2 - 10 of topics)\n",
    "models, topics, _, coherences, perplexities ,_ \\\n",
    "= lda.exhaustive_search(processed_df, dictionary, \n",
    "                        max_seed=100, min_topics=2, max_topics=10, \n",
    "                        min_passes=1,max_passes=1, min_seed=100)\n",
    "\n",
    "# Determine suitable number of topics by Coherence Scores (Shows how interpretable and quality the topics generated were)"
   ]
  },
  {
   "cell_type": "code",
   "execution_count": 9,
   "id": "4bd45ac3",
   "metadata": {},
   "outputs": [
    {
     "name": "stdout",
     "output_type": "stream",
     "text": [
      "Processing text...\n",
      "Text processed in 0.23102807998657227 seconds\n",
      "Making N-grams...\n",
      "N-grams completed in 0.1284475326538086 seconds\n",
      "Predicting...\n",
      " 476/476 predictions complete.\n",
      "Prediction completed in 0.40522193908691406 seconds\n"
     ]
    },
    {
     "data": {
      "text/html": [
       "<div>\n",
       "<style scoped>\n",
       "    .dataframe tbody tr th:only-of-type {\n",
       "        vertical-align: middle;\n",
       "    }\n",
       "\n",
       "    .dataframe tbody tr th {\n",
       "        vertical-align: top;\n",
       "    }\n",
       "\n",
       "    .dataframe thead th {\n",
       "        text-align: right;\n",
       "    }\n",
       "</style>\n",
       "<table border=\"1\" class=\"dataframe\">\n",
       "  <thead>\n",
       "    <tr style=\"text-align: right;\">\n",
       "      <th></th>\n",
       "      <th>Contact ID</th>\n",
       "      <th>prediction</th>\n",
       "      <th>probability</th>\n",
       "    </tr>\n",
       "  </thead>\n",
       "  <tbody>\n",
       "    <tr>\n",
       "      <th>0</th>\n",
       "      <td>27499ae1-f149-4b74-907c-6db8b35b2ec2</td>\n",
       "      <td>0</td>\n",
       "      <td>0.918160</td>\n",
       "    </tr>\n",
       "    <tr>\n",
       "      <th>1</th>\n",
       "      <td>cf8a5e6d-a49a-444b-9563-1a47a04e231a</td>\n",
       "      <td>5</td>\n",
       "      <td>0.546969</td>\n",
       "    </tr>\n",
       "    <tr>\n",
       "      <th>2</th>\n",
       "      <td>ff8c0c6a-96c4-44af-91d2-69394d672b51</td>\n",
       "      <td>2</td>\n",
       "      <td>0.887469</td>\n",
       "    </tr>\n",
       "    <tr>\n",
       "      <th>3</th>\n",
       "      <td>18f51a26-70ba-4fd0-9786-9dc450c4b116</td>\n",
       "      <td>2</td>\n",
       "      <td>0.930750</td>\n",
       "    </tr>\n",
       "    <tr>\n",
       "      <th>4</th>\n",
       "      <td>67f3cfcb-268b-44c0-88ce-99ff9d12f411</td>\n",
       "      <td>5</td>\n",
       "      <td>0.924979</td>\n",
       "    </tr>\n",
       "  </tbody>\n",
       "</table>\n",
       "</div>"
      ],
      "text/plain": [
       "                             Contact ID prediction  probability\n",
       "0  27499ae1-f149-4b74-907c-6db8b35b2ec2          0     0.918160\n",
       "1  cf8a5e6d-a49a-444b-9563-1a47a04e231a          5     0.546969\n",
       "2  ff8c0c6a-96c4-44af-91d2-69394d672b51          2     0.887469\n",
       "3  18f51a26-70ba-4fd0-9786-9dc450c4b116          2     0.930750\n",
       "4  67f3cfcb-268b-44c0-88ce-99ff9d12f411          5     0.924979"
      ]
     },
     "execution_count": 9,
     "metadata": {},
     "output_type": "execute_result"
    }
   ],
   "source": [
    "### Review prediction distribution for dataset ###\n",
    "\n",
    "# Define number of Topics Generated\n",
    "models_selected = models[8]\n",
    "\n",
    "# \n",
    "predictions,_ = lda.predict(models_selected, \n",
    "                            dictionary, \n",
    "                            join_id = df['Contact ID'], \n",
    "                            actual_text = df['manual_notes2'], \n",
    "                            preprocess_obj = df_process_obj)\n",
    "predictions.head()"
   ]
  },
  {
   "cell_type": "markdown",
   "id": "931473a4",
   "metadata": {},
   "source": [
    "## Generated Topic Evaluation"
   ]
  },
  {
   "cell_type": "markdown",
   "id": "556db249",
   "metadata": {},
   "source": [
    "### 1) Unique Words of Topic"
   ]
  },
  {
   "cell_type": "code",
   "execution_count": 10,
   "id": "0e4bcf13",
   "metadata": {},
   "outputs": [],
   "source": [
    "### Evaluate and Perceive each Topics by unique/non-duplicate words ###\n",
    "\n",
    "# Words that appear in one topic would not appear in subsequent topics \n",
    "\n",
    "highest_coherence_topic = topics[8]\n",
    "\n",
    "output_dict = {}\n",
    "for index, topic in enumerate(highest_coherence_topic):\n",
    "    if index == 0:\n",
    "        words_i = [word[0] for word in highest_coherence_topic[index]['words']]\n",
    "        set_of_words_already = set(words_i)\n",
    "        output_dict[index] = words_i\n",
    "    else:\n",
    "        words_i = [word[0] for word in highest_coherence_topic[index]['words'] if word[0] not in set_of_words_already]\n",
    "        set_of_words_already = set_of_words_already.union(set(words_i))\n",
    "        output_dict[index] = words_i"
   ]
  },
  {
   "cell_type": "code",
   "execution_count": 11,
   "id": "8e7ad77a",
   "metadata": {},
   "outputs": [
    {
     "data": {
      "text/plain": [
       "{0: ['\"policy\"',\n",
       "  '\"cp\"',\n",
       "  '\"cancel\"',\n",
       "  '\"email\"',\n",
       "  '\"guide\"',\n",
       "  '\"phone\"',\n",
       "  '\"note\"',\n",
       "  '\"app\"',\n",
       "  '\"online\"',\n",
       "  '\"extend\"'],\n",
       " 1: ['\"claim\"', '\"submit\"', '\"account\"', '\"verify\"'],\n",
       " 2: ['\"refund\"', '\"pnmc\"', '\"date\"', '\"road_tax\"'],\n",
       " 3: ['\"car\"'],\n",
       " 4: ['\"activation\"', '\"activate\"', '\"download\"'],\n",
       " 5: ['\"change\"', '\"travel\"', '\"new\"'],\n",
       " 6: ['\"add\"'],\n",
       " 7: ['\"update\"', '\"cancellation\"'],\n",
       " 8: ['\"login\"'],\n",
       " 9: ['\"trip\"', '\"poi\"', '\"start\"']}"
      ]
     },
     "execution_count": 11,
     "metadata": {},
     "output_type": "execute_result"
    }
   ],
   "source": [
    "output_dict\n",
    "\n",
    "# Possible Topics\n",
    "# 0 : Policy Cancellation Guide\n",
    "# 1 : Account Verification / Activation\n",
    "# 2 : Cancellation and Refund on Motorcycle Product\n",
    "# 3 : Inquire of Motor Product\n",
    "# 4 : Activation and Downloading of FWD APP\n",
    "# 5 : Changing of Travel Product\n",
    "# 6 : Verification of Policy Refund\n",
    "# 7 : Updating/Cancellation of policy\n",
    "# 8 : Login into FWD Account\n",
    "# 9 : Travel Product Extension and Claim"
   ]
  },
  {
   "cell_type": "markdown",
   "id": "40c7f057",
   "metadata": {},
   "source": [
    "### 2) All the Words within Topic"
   ]
  },
  {
   "cell_type": "code",
   "execution_count": 13,
   "id": "f59a4c16",
   "metadata": {
    "collapsed": true
   },
   "outputs": [
    {
     "name": "stdout",
     "output_type": "stream",
     "text": [
      "topic 0\n",
      "\"policy\"             0.054               \n",
      "\"cp\"                 0.040               \n",
      "\"cancel\"             0.037               \n",
      "\"email\"              0.029               \n",
      "\"guide\"              0.027               \n",
      "\"phone\"              0.026               \n",
      "\"note\"               0.016               \n",
      "\"app\"                0.016               \n",
      "\"online\"             0.014               \n",
      "\"extend\"             0.013               \n",
      "-------------------------\n",
      "topic 1\n",
      "\"claim\"              0.055               \n",
      "\"submit\"             0.033               \n",
      "\"online\"             0.020               \n",
      "\"phone\"              0.019               \n",
      "\"guide\"              0.019               \n",
      "\"account\"            0.017               \n",
      "\"policy\"             0.016               \n",
      "\"cp\"                 0.012               \n",
      "\"verify\"             0.012               \n",
      "\"cancel\"             0.011               \n",
      "-------------------------\n",
      "topic 2\n",
      "\"policy\"             0.043               \n",
      "\"cp\"                 0.039               \n",
      "\"cancel\"             0.024               \n",
      "\"refund\"             0.023               \n",
      "\"phone\"              0.017               \n",
      "\"pnmc\"               0.016               \n",
      "\"date\"               0.015               \n",
      "\"guide\"              0.014               \n",
      "\"road_tax\"           0.014               \n",
      "\"email\"              0.013               \n",
      "-------------------------\n",
      "topic 3\n",
      "\"phone\"              0.048               \n",
      "\"cancel\"             0.038               \n",
      "\"cp\"                 0.031               \n",
      "\"account\"            0.027               \n",
      "\"guide\"              0.026               \n",
      "\"online\"             0.026               \n",
      "\"refund\"             0.023               \n",
      "\"email\"              0.021               \n",
      "\"policy\"             0.019               \n",
      "\"car\"                0.018               \n",
      "-------------------------\n",
      "topic 4\n",
      "\"cp\"                 0.043               \n",
      "\"policy\"             0.043               \n",
      "\"email\"              0.028               \n",
      "\"guide\"              0.027               \n",
      "\"activation\"         0.017               \n",
      "\"activate\"           0.015               \n",
      "\"cancel\"             0.015               \n",
      "\"note\"               0.014               \n",
      "\"download\"           0.013               \n",
      "\"extend\"             0.012               \n",
      "-------------------------\n",
      "topic 5\n",
      "\"policy\"             0.047               \n",
      "\"guide\"              0.029               \n",
      "\"cp\"                 0.027               \n",
      "\"cancel\"             0.025               \n",
      "\"phone\"              0.019               \n",
      "\"date\"               0.019               \n",
      "\"change\"             0.016               \n",
      "\"note\"               0.014               \n",
      "\"travel\"             0.014               \n",
      "\"new\"                0.014               \n",
      "-------------------------\n",
      "topic 6\n",
      "\"phone\"              0.031               \n",
      "\"verify\"             0.028               \n",
      "\"guide\"              0.026               \n",
      "\"cp\"                 0.024               \n",
      "\"refund\"             0.019               \n",
      "\"online\"             0.018               \n",
      "\"add\"                0.017               \n",
      "\"policy\"             0.016               \n",
      "\"activate\"           0.015               \n",
      "\"cancel\"             0.015               \n",
      "-------------------------\n",
      "topic 7\n",
      "\"cp\"                 0.046               \n",
      "\"claim\"              0.032               \n",
      "\"cancel\"             0.025               \n",
      "\"email\"              0.021               \n",
      "\"phone\"              0.020               \n",
      "\"note\"               0.020               \n",
      "\"policy\"             0.019               \n",
      "\"update\"             0.016               \n",
      "\"refund\"             0.015               \n",
      "\"cancellation\"       0.014               \n",
      "-------------------------\n",
      "topic 8\n",
      "\"refund\"             0.032               \n",
      "\"login\"              0.031               \n",
      "\"policy\"             0.029               \n",
      "\"online\"             0.027               \n",
      "\"cancel\"             0.024               \n",
      "\"date\"               0.020               \n",
      "\"cp\"                 0.018               \n",
      "\"cancellation\"       0.016               \n",
      "\"phone\"              0.016               \n",
      "\"claim\"              0.014               \n",
      "-------------------------\n",
      "topic 9\n",
      "\"policy\"             0.038               \n",
      "\"guide\"              0.021               \n",
      "\"trip\"               0.016               \n",
      "\"poi\"                0.014               \n",
      "\"extend\"             0.014               \n",
      "\"phone\"              0.013               \n",
      "\"cp\"                 0.012               \n",
      "\"claim\"              0.011               \n",
      "\"start\"              0.011               \n",
      "\"refund\"             0.009               \n",
      "-------------------------\n"
     ]
    }
   ],
   "source": [
    "### Evaluate and Perceive each Topics by all keywords ###\n",
    "\n",
    "# Each word in Topic showcases its weightage/importance to the Topic generation\n",
    "\n",
    "\n",
    "for topic in highest_coherence_topic:\n",
    "    print('topic {}'.format(topic['topic']))\n",
    "    for word_list in topic['words']:\n",
    "        word = word_list[0]\n",
    "        value = word_list[1]\n",
    "        print('{:<20} {:<20}'.format(word, value))\n",
    "    print('-'*25)"
   ]
  },
  {
   "cell_type": "code",
   "execution_count": null,
   "id": "0f16dc42",
   "metadata": {},
   "outputs": [],
   "source": [
    "# Possible Topics\n",
    "# 0 : Policy Cancellation Guide\n",
    "# 1 : Account Verification / Activation\n",
    "# 2 : Cancellation and Refund on Motorcycle Product\n",
    "# 3 : Inquire of Motor Product\n",
    "# 4 : Activation and Downloading of FWD APP\n",
    "# 5 : Changing of Travel Product\n",
    "# 6 : Verification of Policy Refund\n",
    "# 7 : Updating/Cancellation of policy\n",
    "# 8 : Login into FWD Account\n",
    "# 9 : Travel Product Extension and Claim"
   ]
  }
 ],
 "metadata": {
  "kernelspec": {
   "display_name": "conda_python3",
   "language": "python",
   "name": "conda_python3"
  },
  "language_info": {
   "codemirror_mode": {
    "name": "ipython",
    "version": 3
   },
   "file_extension": ".py",
   "mimetype": "text/x-python",
   "name": "python",
   "nbconvert_exporter": "python",
   "pygments_lexer": "ipython3",
   "version": "3.6.13"
  }
 },
 "nbformat": 4,
 "nbformat_minor": 5
}
