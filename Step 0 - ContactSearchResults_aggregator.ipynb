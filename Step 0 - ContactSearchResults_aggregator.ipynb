{
 "cells": [
  {
   "cell_type": "code",
   "execution_count": 6,
   "metadata": {},
   "outputs": [],
   "source": [
    "import os\n",
    "import pandas as pd\n",
    "import re\n",
    "import numpy as np"
   ]
  },
  {
   "cell_type": "code",
   "execution_count": 4,
   "metadata": {
    "collapsed": true
   },
   "outputs": [
    {
     "ename": "SyntaxError",
     "evalue": "(unicode error) 'unicodeescape' codec can't decode bytes in position 2-3: truncated \\UXXXXXXXX escape (<ipython-input-4-94c9da20bbfd>, line 2)",
     "output_type": "error",
     "traceback": [
      "\u001b[0;36m  File \u001b[0;32m\"<ipython-input-4-94c9da20bbfd>\"\u001b[0;36m, line \u001b[0;32m2\u001b[0m\n\u001b[0;31m    contact_files = os.listdir(path = 'C:\\Users\\sgpctf\\OneDrive - FWD Group Management Holdings Limited\\Desktop\\Voice Analytics\\test-sp\\csvs')\u001b[0m\n\u001b[0m                                     ^\u001b[0m\n\u001b[0;31mSyntaxError\u001b[0m\u001b[0;31m:\u001b[0m (unicode error) 'unicodeescape' codec can't decode bytes in position 2-3: truncated \\UXXXXXXXX escape\n"
     ]
    }
   ],
   "source": [
    "# Change filepath based on where you downloaded the contact search results to\n",
    "contact_files = os.listdir(path = 'C:\\\\Users\\\\sgphsg\\\\OneDrive - FWD Group Management Holdings Limited\\\\Desktop\\\\ContactSearchResults')\n",
    "contact_files = [i for i in contact_files if re.search('[0-9]',i)] # Remove aggregated excel files from previous runs"
   ]
  },
  {
   "cell_type": "code",
   "execution_count": 3,
   "metadata": {
    "collapsed": true
   },
   "outputs": [
    {
     "name": "stdout",
     "output_type": "stream",
     "text": [
      "Appending month 05 to ContactSearchResults_20210501_20210505.csv \n",
      "Appending month 05 to ContactSearchResults_20210506_20210510.csv \n",
      "Appending month 05 to ContactSearchResults_20210511_20210514.csv \n",
      "Appending month 05 to ContactSearchResults_20210515_20210519.csv \n",
      "Appending month 05 to ContactSearchResults_20210520_20210524.csv \n",
      "Appending month 05 to ContactSearchResults_20210525_20210531.csv \n",
      "Appending month 06 to ContactSearchResults_20210601_20210601.csv \n",
      "Appending month 06 to ContactSearchResults_20210602_20210604.csv \n",
      "Appending month 06 to ContactSearchResults_20210605_20210609.csv \n",
      "Appending month 06 to ContactSearchResults_20210610_20210614.csv \n",
      "Appending month 06 to ContactSearchResults_20210615_20210618.csv \n",
      "Appending month 06 to ContactSearchResults_20210618_20210622.csv \n",
      "Appending month 06 to ContactSearchResults_20210623_20210627.csv \n",
      "Appending month 06 to ContactSearchResults_20210627_20210630.csv \n",
      "Appending month 07 to ContactSearchResults_20210701_20210705.csv \n",
      "Appending month 07 to ContactSearchResults_20210706_20210708.csv \n",
      "Appending month 07 to ContactSearchResults_20210709_20210713.csv \n",
      "Appending month 07 to ContactSearchResults_20210714_20210718.csv \n",
      "Appending month 07 to ContactSearchResults_20210719_20210722.csv \n",
      "Appending month 07 to ContactSearchResults_20210723_20210727.csv \n",
      "Appending month 07 to ContactSearchResults_20210728_20210731.csv \n",
      "Appending month 08 to ContactSearchResults_20210801_20210803.csv \n",
      "Appending month 08 to ContactSearchResults_20210804_20210808.csv \n",
      "Appending month 08 to ContactSearchResults_20210809_20210812.csv \n",
      "Appending month 08 to ContactSearchResults_20210813_20210817.csv \n",
      "Appending month 08 to ContactSearchResults_20210818_20210820.csv \n",
      "Appending month 08 to ContactSearchResults_20210821_20210824.csv \n",
      "Appending month 08 to ContactSearchResults_20210825_20210827.csv \n",
      "Appending month 08 to ContactSearchResults_20210828_20210831.csv \n",
      "Appending month 09 to ContactSearchResults_20210901_20210905.csv \n",
      "Appending month 09 to ContactSearchResults_20210906_20210909.csv \n",
      "Appending month 09 to ContactSearchResults_20210910-20210913.csv \n",
      "Appending month 09 to ContactSearchResults_20210914_20210916.csv \n",
      "Appending month 09 to ContactSearchResults_20210917_20210921.csv \n",
      "Appending month 09 to ContactSearchResults_20210922_20210926.csv \n",
      "Appending month 09 to ContactSearchResults_20210927_20210929.csv \n",
      "Appending month 09 to ContactSearchResults_20210930_20210930.csv \n",
      "Appending month 10 to ContactSearchResults_20211001_20211005.csv \n",
      "Appending month 10 to ContactSearchResults_20211006_20211010.csv \n",
      "Appending month 10 to ContactSearchResults_20211011_20211013.csv \n",
      "Appending month 10 to ContactSearchResults_20211014_20211018.csv \n",
      "Appending month 10 to ContactSearchResults_20211019_20211021.csv \n",
      "Appending month 10 to ContactSearchResults_20211022_20211026.csv \n",
      "Appending month 10 to ContactSearchResults_20211027_20211029.csv \n",
      "Appending month 10 to ContactSearchResults_20211030_20211031.csv \n",
      "Appending month 11 to ContactSearchResults_20211101_20211104.csv \n",
      "Appending month 11 to ContactSearchResults_20211105_20211108.csv \n",
      "Appending month 11 to ContactSearchResults_20211109_20211110.csv \n",
      "Appending month 11 to ContactSearchResults_20211111_20211114.csv \n",
      "Appending month 11 to ContactSearchResults_20211115_20211117.csv \n",
      "Appending month 11 to ContactSearchResults_20211118_20211121.csv \n",
      "Appending month 11 to ContactSearchResults_20211122_20211123.csv \n",
      "Appending month 11 to ContactSearchResults_20211124_20211125.csv \n",
      "Appending month 11 to ContactSearchResults_20211126_20211128.csv \n",
      "Appending month 11 to ContactSearchResults_20211129_20211130.csv \n"
     ]
    }
   ],
   "source": [
    "for index, file in enumerate(contact_files):\n",
    "    if index == 0: # First file\n",
    "        filepath =  'C:\\\\Users\\\\sgphsg\\\\OneDrive - FWD Group Management Holdings Limited\\\\Desktop\\\\ContactSearchResults' + '\\\\' + file\n",
    "        df = pd.read_csv(filepath)\n",
    "        month = re.findall('2021([0-9]{2})[0-9]{2}.csv$',file)[0]\n",
    "        df['month'] = month\n",
    "        print('Appending month {} to {} '.format(month, file))\n",
    "    else:\n",
    "        filepath =  'C:\\\\Users\\\\sgphsg\\\\OneDrive - FWD Group Management Holdings Limited\\\\Desktop\\\\ContactSearchResults' + '\\\\' + file\n",
    "        df2 = pd.read_csv(filepath)\n",
    "        month = re.findall('2021([0-9]{2})[0-9]{2}.csv$',file)[0]\n",
    "        print('Appending month {} to {} '.format(month, file))\n",
    "        df2['month'] = month\n",
    "        df = pd.concat([df, df2], axis = 0)"
   ]
  },
  {
   "cell_type": "code",
   "execution_count": 4,
   "metadata": {
    "collapsed": true
   },
   "outputs": [
    {
     "data": {
      "text/html": [
       "<div>\n",
       "<style scoped>\n",
       "    .dataframe tbody tr th:only-of-type {\n",
       "        vertical-align: middle;\n",
       "    }\n",
       "\n",
       "    .dataframe tbody tr th {\n",
       "        vertical-align: top;\n",
       "    }\n",
       "\n",
       "    .dataframe thead th {\n",
       "        text-align: right;\n",
       "    }\n",
       "</style>\n",
       "<table border=\"1\" class=\"dataframe\">\n",
       "  <thead>\n",
       "    <tr style=\"text-align: right;\">\n",
       "      <th></th>\n",
       "      <th>Contact ID</th>\n",
       "      <th>Channel</th>\n",
       "      <th>Initiation timestamp</th>\n",
       "      <th>System phone number</th>\n",
       "      <th>Queue</th>\n",
       "      <th>Agent</th>\n",
       "      <th>Customer phone number</th>\n",
       "      <th>Disconnect timestamp</th>\n",
       "      <th>Contact duration</th>\n",
       "      <th>month</th>\n",
       "    </tr>\n",
       "  </thead>\n",
       "  <tbody>\n",
       "    <tr>\n",
       "      <th>0</th>\n",
       "      <td>56b977cd-081e-437e-9a1c-71c28d27ff1e</td>\n",
       "      <td>Voice</td>\n",
       "      <td>2021-05-05 21:41:56</td>\n",
       "      <td>outbound</td>\n",
       "      <td>Service_Outbound SG Service</td>\n",
       "      <td>tracy.hwang@fwd.com</td>\n",
       "      <td>+6597889977</td>\n",
       "      <td>2021-05-05 21:42:27</td>\n",
       "      <td>00:00:30</td>\n",
       "      <td>05</td>\n",
       "    </tr>\n",
       "    <tr>\n",
       "      <th>1</th>\n",
       "      <td>6391e63f-3195-4d9d-820c-d0ae66bc1977</td>\n",
       "      <td>Voice</td>\n",
       "      <td>2021-05-05 21:35:34</td>\n",
       "      <td>outbound</td>\n",
       "      <td>Service_Outbound SG Service</td>\n",
       "      <td>grace.chong@fwd.com</td>\n",
       "      <td>+6596682378</td>\n",
       "      <td>2021-05-05 21:35:57</td>\n",
       "      <td>00:00:22</td>\n",
       "      <td>05</td>\n",
       "    </tr>\n",
       "    <tr>\n",
       "      <th>2</th>\n",
       "      <td>84412379-6507-4acb-b60e-54d536064f26</td>\n",
       "      <td>Voice</td>\n",
       "      <td>2021-05-05 21:30:11</td>\n",
       "      <td>outbound</td>\n",
       "      <td>Sales_Outbound SG Sales</td>\n",
       "      <td>eric.jiang@fwd.com</td>\n",
       "      <td>+6581887843</td>\n",
       "      <td>2021-05-05 21:34:15</td>\n",
       "      <td>00:04:04</td>\n",
       "      <td>05</td>\n",
       "    </tr>\n",
       "    <tr>\n",
       "      <th>3</th>\n",
       "      <td>61087dd3-7db9-4780-b1e9-b619ac8e8326</td>\n",
       "      <td>Voice</td>\n",
       "      <td>2021-05-05 21:23:52</td>\n",
       "      <td>+6531656294</td>\n",
       "      <td>Service OtherAssistance</td>\n",
       "      <td>tracy.hwang@fwd.com</td>\n",
       "      <td>+6598483990</td>\n",
       "      <td>2021-05-05 21:30:21</td>\n",
       "      <td>00:06:28</td>\n",
       "      <td>05</td>\n",
       "    </tr>\n",
       "    <tr>\n",
       "      <th>4</th>\n",
       "      <td>937ce92a-fed5-48c3-940b-c69bedef18aa</td>\n",
       "      <td>Voice</td>\n",
       "      <td>2021-05-05 21:23:35</td>\n",
       "      <td>+6531656294</td>\n",
       "      <td>Sales</td>\n",
       "      <td>eric.jiang@fwd.com</td>\n",
       "      <td>+6596586358</td>\n",
       "      <td>2021-05-05 21:29:24</td>\n",
       "      <td>00:05:48</td>\n",
       "      <td>05</td>\n",
       "    </tr>\n",
       "  </tbody>\n",
       "</table>\n",
       "</div>"
      ],
      "text/plain": [
       "                             Contact ID Channel Initiation timestamp  \\\n",
       "0  56b977cd-081e-437e-9a1c-71c28d27ff1e   Voice  2021-05-05 21:41:56   \n",
       "1  6391e63f-3195-4d9d-820c-d0ae66bc1977   Voice  2021-05-05 21:35:34   \n",
       "2  84412379-6507-4acb-b60e-54d536064f26   Voice  2021-05-05 21:30:11   \n",
       "3  61087dd3-7db9-4780-b1e9-b619ac8e8326   Voice  2021-05-05 21:23:52   \n",
       "4  937ce92a-fed5-48c3-940b-c69bedef18aa   Voice  2021-05-05 21:23:35   \n",
       "\n",
       "  System phone number                        Queue                Agent  \\\n",
       "0            outbound  Service_Outbound SG Service  tracy.hwang@fwd.com   \n",
       "1            outbound  Service_Outbound SG Service  grace.chong@fwd.com   \n",
       "2            outbound      Sales_Outbound SG Sales   eric.jiang@fwd.com   \n",
       "3         +6531656294      Service OtherAssistance  tracy.hwang@fwd.com   \n",
       "4         +6531656294                        Sales   eric.jiang@fwd.com   \n",
       "\n",
       "  Customer phone number Disconnect timestamp Contact duration month  \n",
       "0           +6597889977  2021-05-05 21:42:27         00:00:30    05  \n",
       "1           +6596682378  2021-05-05 21:35:57         00:00:22    05  \n",
       "2           +6581887843  2021-05-05 21:34:15         00:04:04    05  \n",
       "3           +6598483990  2021-05-05 21:30:21         00:06:28    05  \n",
       "4           +6596586358  2021-05-05 21:29:24         00:05:48    05  "
      ]
     },
     "execution_count": 4,
     "metadata": {},
     "output_type": "execute_result"
    }
   ],
   "source": [
    "df.head()"
   ]
  },
  {
   "cell_type": "code",
   "execution_count": 5,
   "metadata": {},
   "outputs": [],
   "source": [
    "df.to_csv('C:\\\\Users\\\\sgphsg\\\\OneDrive - FWD Group Management Holdings Limited\\\\Desktop\\\\ContactSearchResults\\\\{}'.format('ContactSearchResults_agg.csv'),\n",
    "          index = False)"
   ]
  }
 ],
 "metadata": {
  "kernelspec": {
   "display_name": "conda_python3",
   "language": "python",
   "name": "conda_python3"
  },
  "language_info": {
   "codemirror_mode": {
    "name": "ipython",
    "version": 3
   },
   "file_extension": ".py",
   "mimetype": "text/x-python",
   "name": "python",
   "nbconvert_exporter": "python",
   "pygments_lexer": "ipython3",
   "version": "3.6.13"
  }
 },
 "nbformat": 4,
 "nbformat_minor": 4
}
