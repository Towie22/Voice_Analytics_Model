{
 "cells": [
  {
   "cell_type": "code",
   "execution_count": 9,
   "id": "f3b53de7",
   "metadata": {},
   "outputs": [],
   "source": [
    "import pandas as pd\n",
    "import boto3\n",
    "import re\n",
    "import tempfile"
   ]
  },
  {
   "cell_type": "markdown",
   "id": "40c4927a",
   "metadata": {},
   "source": [
    "## Transcribe"
   ]
  },
  {
   "cell_type": "markdown",
   "id": "32481399",
   "metadata": {},
   "source": [
    "### Call Processed Dataset"
   ]
  },
  {
   "cell_type": "code",
   "execution_count": 12,
   "id": "4cfddbf5",
   "metadata": {},
   "outputs": [],
   "source": [
    "df = pd.read_csv('merged_crm_meta.csv')\n",
    "df['Initiation timestamp_yyyymm'] = df['Initiation timestamp'].apply(lambda x: str(x)[:4] + str(x)[5:7])\n",
    "df['Initiation timestamp_yyyymmdd'] = df['Initiation timestamp'].apply(lambda x: str(x)[:4] + str(x)[5:7] + str(x)[8:10])"
   ]
  },
  {
   "cell_type": "markdown",
   "id": "587b81d6",
   "metadata": {},
   "source": [
    "### List Calls"
   ]
  },
  {
   "cell_type": "code",
   "execution_count": 11,
   "id": "d2104a1d",
   "metadata": {},
   "outputs": [
    {
     "name": "stdout",
     "output_type": "stream",
     "text": [
      "Number of wav files to transcribe: 12117\n"
     ]
    }
   ],
   "source": [
    "s3 = boto3.resource('s3')\n",
    "bucket = s3.Bucket('fwd-sg-sagemaker-raw-data')\n",
    "list_of_wav_to_transcribe = []\n",
    "\n",
    "for obj in bucket.objects.filter(Prefix = 'call_center/CallRecordings/2021/08/'):\n",
    "    list_of_wav_to_transcribe.append(obj.key)\n",
    "\n",
    "list_of_wav_to_transcribe = list_of_wav_to_transcribe[1:] # Pops the first entry, which is only prefix and no .wav file\n",
    "print('Number of wav files to transcribe: {}'.format(len(list_of_wav_to_transcribe)))"
   ]
  },
  {
   "cell_type": "code",
   "execution_count": 13,
   "id": "0060290e",
   "metadata": {},
   "outputs": [],
   "source": [
    "sample_contact_ids = df['Contact ID'].head(4).values\n",
    "sample_initiation_timestamps = ['13','13','13','13'] # Day of August\n",
    "s3 = boto3.resource('s3')\n",
    "s3c = boto3.client('s3')\n",
    "bucket = s3.Bucket('fwd-sg-sagemaker-raw-data')\n",
    "\n",
    "for contact_id, day in zip(sample_contact_ids, sample_initiation_timestamps):\n",
    "    for obj in bucket.objects.filter(Prefix = 'call_center/CallRecordings/2021/08/{}'.format(day)):\n",
    "        if re.search(contact_id, obj.key):\n",
    "            print(obj.key)"
   ]
  },
  {
   "cell_type": "code",
   "execution_count": 10,
   "id": "607a73f4",
   "metadata": {
    "collapsed": true
   },
   "outputs": [
    {
     "ename": "ClientError",
     "evalue": "An error occurred (AccessDeniedException) when calling the StartTranscriptionJob operation: User: arn:aws:sts::365339902192:assumed-role/Sagemaker-Access-Role/SageMaker is not authorized to perform: transcribe:StartTranscriptionJob on resource: arn:aws:transcribe:ap-southeast-1:365339902192:vocabulary/list-vocab-basic because no identity-based policy allows the transcribe:StartTranscriptionJob action",
     "output_type": "error",
     "traceback": [
      "\u001b[0;31m---------------------------------------------------------------------------\u001b[0m",
      "\u001b[0;31mClientError\u001b[0m                               Traceback (most recent call last)",
      "\u001b[0;32m<ipython-input-10-faf3c57f565c>\u001b[0m in \u001b[0;36m<module>\u001b[0;34m\u001b[0m\n\u001b[1;32m     34\u001b[0m                     \u001b[0;34m'ChannelIdentification'\u001b[0m\u001b[0;34m:\u001b[0m \u001b[0;32mTrue\u001b[0m\u001b[0;34m,\u001b[0m\u001b[0;34m\u001b[0m\u001b[0;34m\u001b[0m\u001b[0m\n\u001b[1;32m     35\u001b[0m                     \u001b[0;34m'ShowAlternatives'\u001b[0m\u001b[0;34m:\u001b[0m \u001b[0;32mTrue\u001b[0m\u001b[0;34m,\u001b[0m\u001b[0;34m\u001b[0m\u001b[0;34m\u001b[0m\u001b[0m\n\u001b[0;32m---> 36\u001b[0;31m                     \u001b[0;34m'MaxAlternatives'\u001b[0m\u001b[0;34m:\u001b[0m \u001b[0;36m2\u001b[0m\u001b[0;34m\u001b[0m\u001b[0;34m\u001b[0m\u001b[0m\n\u001b[0m\u001b[1;32m     37\u001b[0m                 })\n\u001b[1;32m     38\u001b[0m \u001b[0;34m\u001b[0m\u001b[0m\n",
      "\u001b[0;32m~/anaconda3/envs/python3/lib/python3.6/site-packages/botocore/client.py\u001b[0m in \u001b[0;36m_api_call\u001b[0;34m(self, *args, **kwargs)\u001b[0m\n\u001b[1;32m    389\u001b[0m                     \"%s() only accepts keyword arguments.\" % py_operation_name)\n\u001b[1;32m    390\u001b[0m             \u001b[0;31m# The \"self\" in this scope is referring to the BaseClient.\u001b[0m\u001b[0;34m\u001b[0m\u001b[0;34m\u001b[0m\u001b[0;34m\u001b[0m\u001b[0m\n\u001b[0;32m--> 391\u001b[0;31m             \u001b[0;32mreturn\u001b[0m \u001b[0mself\u001b[0m\u001b[0;34m.\u001b[0m\u001b[0m_make_api_call\u001b[0m\u001b[0;34m(\u001b[0m\u001b[0moperation_name\u001b[0m\u001b[0;34m,\u001b[0m \u001b[0mkwargs\u001b[0m\u001b[0;34m)\u001b[0m\u001b[0;34m\u001b[0m\u001b[0;34m\u001b[0m\u001b[0m\n\u001b[0m\u001b[1;32m    392\u001b[0m \u001b[0;34m\u001b[0m\u001b[0m\n\u001b[1;32m    393\u001b[0m         \u001b[0m_api_call\u001b[0m\u001b[0;34m.\u001b[0m\u001b[0m__name__\u001b[0m \u001b[0;34m=\u001b[0m \u001b[0mstr\u001b[0m\u001b[0;34m(\u001b[0m\u001b[0mpy_operation_name\u001b[0m\u001b[0;34m)\u001b[0m\u001b[0;34m\u001b[0m\u001b[0;34m\u001b[0m\u001b[0m\n",
      "\u001b[0;32m~/anaconda3/envs/python3/lib/python3.6/site-packages/botocore/client.py\u001b[0m in \u001b[0;36m_make_api_call\u001b[0;34m(self, operation_name, api_params)\u001b[0m\n\u001b[1;32m    717\u001b[0m             \u001b[0merror_code\u001b[0m \u001b[0;34m=\u001b[0m \u001b[0mparsed_response\u001b[0m\u001b[0;34m.\u001b[0m\u001b[0mget\u001b[0m\u001b[0;34m(\u001b[0m\u001b[0;34m\"Error\"\u001b[0m\u001b[0;34m,\u001b[0m \u001b[0;34m{\u001b[0m\u001b[0;34m}\u001b[0m\u001b[0;34m)\u001b[0m\u001b[0;34m.\u001b[0m\u001b[0mget\u001b[0m\u001b[0;34m(\u001b[0m\u001b[0;34m\"Code\"\u001b[0m\u001b[0;34m)\u001b[0m\u001b[0;34m\u001b[0m\u001b[0;34m\u001b[0m\u001b[0m\n\u001b[1;32m    718\u001b[0m             \u001b[0merror_class\u001b[0m \u001b[0;34m=\u001b[0m \u001b[0mself\u001b[0m\u001b[0;34m.\u001b[0m\u001b[0mexceptions\u001b[0m\u001b[0;34m.\u001b[0m\u001b[0mfrom_code\u001b[0m\u001b[0;34m(\u001b[0m\u001b[0merror_code\u001b[0m\u001b[0;34m)\u001b[0m\u001b[0;34m\u001b[0m\u001b[0;34m\u001b[0m\u001b[0m\n\u001b[0;32m--> 719\u001b[0;31m             \u001b[0;32mraise\u001b[0m \u001b[0merror_class\u001b[0m\u001b[0;34m(\u001b[0m\u001b[0mparsed_response\u001b[0m\u001b[0;34m,\u001b[0m \u001b[0moperation_name\u001b[0m\u001b[0;34m)\u001b[0m\u001b[0;34m\u001b[0m\u001b[0;34m\u001b[0m\u001b[0m\n\u001b[0m\u001b[1;32m    720\u001b[0m         \u001b[0;32melse\u001b[0m\u001b[0;34m:\u001b[0m\u001b[0;34m\u001b[0m\u001b[0;34m\u001b[0m\u001b[0m\n\u001b[1;32m    721\u001b[0m             \u001b[0;32mreturn\u001b[0m \u001b[0mparsed_response\u001b[0m\u001b[0;34m\u001b[0m\u001b[0;34m\u001b[0m\u001b[0m\n",
      "\u001b[0;31mClientError\u001b[0m: An error occurred (AccessDeniedException) when calling the StartTranscriptionJob operation: User: arn:aws:sts::365339902192:assumed-role/Sagemaker-Access-Role/SageMaker is not authorized to perform: transcribe:StartTranscriptionJob on resource: arn:aws:transcribe:ap-southeast-1:365339902192:vocabulary/list-vocab-basic because no identity-based policy allows the transcribe:StartTranscriptionJob action"
     ]
    }
   ],
   "source": [
    "transcribe = boto3.client('transcribe')\n",
    "jobs = [] # This is a list of jobs that are currently running\n",
    "\n",
    "for index, wav in enumerate(list_of_wav_to_transcribe[:2]):\n",
    "    \n",
    "    if index % 200 == 0:\n",
    "        # Every 200 calls wait for transcriptions to complete (because limit is 250)\n",
    "        while len(jobs) > 5:\n",
    "            for job in jobs:\n",
    "                # Sleep to avoid reaching API limit\n",
    "                time.sleep(0.05)\n",
    "                # Check job status for when its done, logging when jobs are done\n",
    "                status = transcribe.get_transcription_job(TranscriptionJobName=job)\n",
    "                if status['TranscriptionJob']['TranscriptionJobStatus'] in ['COMPLETED', 'FAILED']:\n",
    "                    jobs.remove(job)\n",
    "                    print(job + ' is done, ' + str(len(jobs)) + ' jobs left to be completed.')\n",
    "            \n",
    "            time.sleep(30)\n",
    "        \n",
    "    # Record down info about this wav\n",
    "    prefix1, prefix2, year, month, day, contact_id = wav.split('/')\n",
    "    job_name = 'August-transcription-{}'.format(contact_id)\n",
    "    job_uri = 'fwd-sg-sagemaker-raw-data/' + wav  # s3 uri of the wav file\n",
    "    \n",
    "    transcribe.start_transcription_job(\n",
    "                TranscriptionJobName = job_name,\n",
    "                Media={'MediaFileUri': job_uri},\n",
    "                MediaFormat='wav',\n",
    "                OutputBucketName='fwd-sg-sagemaker-raw-data',\n",
    "                OutputKey='call_center/Transcribe_output/{}/{}/{}/{}'.format(year, month, day, contact_id),\n",
    "                LanguageCode='en-US',\n",
    "                Settings={\n",
    "                    'VocabularyName': 'list-vocab-basic',\n",
    "                    'ChannelIdentification': True,\n",
    "                    'ShowAlternatives': True,\n",
    "                    'MaxAlternatives': 2\n",
    "                })\n",
    "    \n",
    "    jobs.append(job_name)\n",
    "    time.sleep(0.05)"
   ]
  },
  {
   "cell_type": "code",
   "execution_count": null,
   "id": "17796242",
   "metadata": {},
   "outputs": [],
   "source": []
  },
  {
   "cell_type": "code",
   "execution_count": null,
   "id": "7f347744",
   "metadata": {},
   "outputs": [],
   "source": [
    "transcribe = boto3.client('transcribe')\n",
    "jobs = [] # This is a list of jobs that are currently running\n",
    "\n",
    "for index, wav in enumerate(list_of_wav_to_transcribe[:2]):\n",
    "    \n",
    "    if index % 200 == 0:\n",
    "        # Every 200 calls wait for transcriptions to complete (because limit is 250)\n",
    "        while len(jobs) > 5:\n",
    "            for job in jobs:\n",
    "                # Sleep to avoid reaching API limit\n",
    "                time.sleep(0.05)\n",
    "                # Check job status for when its done, logging when jobs are done\n",
    "                status = transcribe.get_transcription_job(TranscriptionJobName=job)\n",
    "                if status['TranscriptionJob']['TranscriptionJobStatus'] in ['COMPLETED', 'FAILED']:\n",
    "                    jobs.remove(job)\n",
    "                    print(job + ' is done, ' + str(len(jobs)) + ' jobs left to be completed.')\n",
    "            \n",
    "            time.sleep(30)\n",
    "        \n",
    "    # Record down info about this wav\n",
    "    prefix1, prefix2, year, month, day, contact_id = wav.split('/')\n",
    "    job_name = 'August-transcription-{}'.format(contact_id)\n",
    "    job_uri = 'fwd-sg-sagemaker-raw-data/' + wav  # s3 uri of the wav file\n",
    "    \n",
    "    transcribe.start_transcription_job(\n",
    "                TranscriptionJobName = job_name,\n",
    "                Media={'MediaFileUri': job_uri},\n",
    "                MediaFormat='wav',\n",
    "                OutputBucketName='fwd-sg-sagemaker-raw-data',\n",
    "                OutputKey='call_center/Transcribe_output/{}/{}/{}/{}'.format(year, month, day, contact_id),\n",
    "                LanguageCode='en-US',\n",
    "                Settings={\n",
    "                    'VocabularyName': 'list-vocab-basic',\n",
    "                    'ChannelIdentification': True,\n",
    "                    'ShowAlternatives': True,\n",
    "                    'MaxAlternatives': 2\n",
    "                })\n",
    "    \n",
    "    jobs.append(job_name)\n",
    "    time.sleep(0.05)"
   ]
  },
  {
   "cell_type": "code",
   "execution_count": null,
   "id": "c6d0db79",
   "metadata": {},
   "outputs": [],
   "source": []
  },
  {
   "cell_type": "code",
   "execution_count": null,
   "id": "f8204b1a",
   "metadata": {},
   "outputs": [],
   "source": [
    "%%time\n",
    "from __future__ import print_function\n",
    "import time\n",
    "import boto3\n",
    "\n",
    "# Programmatic Transcription\n",
    "transcribe = boto3.client('transcribe')\n",
    "jobs = []\n",
    "\n",
    "\n",
    "# For every call to be transcribed\n",
    "for i in range(len(to_trans)):\n",
    "    \n",
    "    # Every 200 calls wait for transcriptions to complete (because limit is 250)\n",
    "    if (i % 200) is 0:\n",
    "        print('\\n\\n Waiting Loop...')\n",
    "        # Only allow 5 jobs to be transcribing before continuing\n",
    "        while len(jobs) > 5:\n",
    "            for job in jobs:\n",
    "                # Sleep to avoid reaching API limit\n",
    "                time.sleep(0.05)\n",
    "                # Check job status for when its done, logging when jobs are done\n",
    "                status = transcribe.get_transcription_job(TranscriptionJobName=job)\n",
    "                if status['TranscriptionJob']['TranscriptionJobStatus'] in ['COMPLETED', 'FAILED']:\n",
    "                    jobs.remove(job)\n",
    "                    print(job + ' is done, ' + str(len(jobs)) + ' jobs left to be completed.')\n",
    "            \n",
    "            time.sleep(30)\n",
    "            \n",
    "    try:\n",
    "        # THESE CAN BE CHANGED\n",
    "        job_name = 'August-transcribe' + file_name.replace('%', '')\n",
    "        \n",
    "        # Make sure these are correct\n",
    "        file_name = to_trans[i][39:]\n",
    "        job_uri = \"s3://singapore-polytechnic-voice-to-text/\" + to_trans[i]\n",
    "        print(job_uri)\n",
    "        \n",
    "        # SET TRANSCRIPTION PARAMETERS HERE\n",
    "        transcribe.start_transcription_job(\n",
    "            TranscriptionJobName=job_name,\n",
    "            Media={'MediaFileUri': job_uri},\n",
    "            MediaFormat='wav',\n",
    "            OutputBucketName='singapore-polytechnic-voice-to-text',\n",
    "            OutputKey='jan_2021_transcripts/',\n",
    "            LanguageCode='en-US',\n",
    "            Settings={\n",
    "                'VocabularyName': 'list-vocab-basic',\n",
    "                'ChannelIdentification': True,\n",
    "                'ShowAlternatives': True,\n",
    "                'MaxAlternatives': 2\n",
    "            },\n",
    "        )\n",
    "\n",
    "        print('Created job ' + job_name)\n",
    "        jobs.append(job_name)\n",
    "        # Avoid spamming API\n",
    "        time.sleep(0.05)\n",
    "    except:\n",
    "        pass\n",
    "\n",
    "# For last batch of transcriptions\n",
    "while True:\n",
    "    for job in jobs:\n",
    "        time.sleep(0.05)\n",
    "        status = transcribe.get_transcription_job(TranscriptionJobName=job)\n",
    "        if status['TranscriptionJob']['TranscriptionJobStatus'] in ['COMPLETED', 'FAILED']:\n",
    "            jobs.remove(job)\n",
    "            print(job + ' is done, ' + str(len(jobs)) + ' jobs left to be completed.')\n",
    "            \n",
    "    if len(jobs) == 0:\n",
    "        break\n",
    "    time.sleep(30)\n",
    "print('\\n\\n\\n\\nDONE!')"
   ]
  },
  {
   "cell_type": "code",
   "execution_count": null,
   "id": "c4b7ffa6",
   "metadata": {},
   "outputs": [],
   "source": []
  },
  {
   "cell_type": "code",
   "execution_count": null,
   "id": "10e2cf27",
   "metadata": {},
   "outputs": [],
   "source": []
  },
  {
   "cell_type": "code",
   "execution_count": null,
   "id": "263ddcc0",
   "metadata": {},
   "outputs": [],
   "source": []
  }
 ],
 "metadata": {
  "kernelspec": {
   "display_name": "conda_python3",
   "language": "python",
   "name": "conda_python3"
  },
  "language_info": {
   "codemirror_mode": {
    "name": "ipython",
    "version": 3
   },
   "file_extension": ".py",
   "mimetype": "text/x-python",
   "name": "python",
   "nbconvert_exporter": "python",
   "pygments_lexer": "ipython3",
   "version": "3.6.13"
  }
 },
 "nbformat": 4,
 "nbformat_minor": 5
}
